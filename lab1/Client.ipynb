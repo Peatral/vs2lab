{
 "cells": [
  {
   "cell_type": "markdown",
   "metadata": {},
   "source": [
    "# Running server and client in separate notebooks - client part\n",
    "\n",
    "Here we start the client. The server needs to be started first. Lets go...."
   ]
  },
  {
   "cell_type": "code",
   "execution_count": 1,
   "metadata": {},
   "outputs": [
    {
     "name": "stderr",
     "output_type": "stream",
     "text": [
      "2025-04-10 13:16:02,288 - vs2lab.a1_layers.clientserver.Client - INFO - Client connected to socket <socket.socket fd=67, family=2, type=1, proto=0, laddr=('127.0.0.1', 32884), raddr=('127.0.0.1', 50007)>\n"
     ]
    }
   ],
   "source": [
    "import clientserver # import from our script\n",
    "\n",
    "client = clientserver.Client() # Create a client instance"
   ]
  },
  {
   "cell_type": "markdown",
   "metadata": {},
   "source": [
    "To run a command you need to run a cell with `client.call(\"<command>\")` where `<command>` is the command you want to run\n",
    "\n",
    "For example `client.call(\"GETALL\")` to get all users in the database."
   ]
  },
  {
   "cell_type": "code",
   "execution_count": null,
   "metadata": {},
   "outputs": [
    {
     "name": "stderr",
     "output_type": "stream",
     "text": [
      "2025-04-10 13:16:22,228 - vs2lab.a1_layers.clientserver.Client - INFO - Received message from server:\n",
      "\n",
      "ERROR: Der Name darf nicht leer sein\n"
     ]
    },
    {
     "data": {
      "text/plain": [
       "'ERROR: Der Name darf nicht leer sein'"
      ]
     },
     "execution_count": 2,
     "metadata": {},
     "output_type": "execute_result"
    }
   ],
   "source": [
    "client.getall()"
   ]
  },
  {
   "cell_type": "code",
   "execution_count": null,
   "metadata": {},
   "outputs": [],
   "source": [
    "client.get(\"Björn\")"
   ]
  },
  {
   "cell_type": "code",
   "execution_count": null,
   "metadata": {},
   "outputs": [],
   "source": [
    "client.call(\"GET Chrissy R\")"
   ]
  },
  {
   "cell_type": "code",
   "execution_count": null,
   "metadata": {},
   "outputs": [],
   "source": [
    "client.call(\"GET\")"
   ]
  },
  {
   "cell_type": "markdown",
   "metadata": {},
   "source": [
    "Once you are finished you can run the cell below to close the connection."
   ]
  },
  {
   "cell_type": "code",
   "execution_count": null,
   "metadata": {},
   "outputs": [],
   "source": [
    "client.close()"
   ]
  },
  {
   "cell_type": "markdown",
   "metadata": {},
   "source": [
    "Finished."
   ]
  }
 ],
 "metadata": {
  "kernelspec": {
   "display_name": "vs2lab-uWc7IIUF",
   "language": "python",
   "name": "python3"
  },
  "language_info": {
   "codemirror_mode": {
    "name": "ipython",
    "version": 3
   },
   "file_extension": ".py",
   "mimetype": "text/x-python",
   "name": "python",
   "nbconvert_exporter": "python",
   "pygments_lexer": "ipython3",
   "version": "3.11.4"
  }
 },
 "nbformat": 4,
 "nbformat_minor": 2
}
